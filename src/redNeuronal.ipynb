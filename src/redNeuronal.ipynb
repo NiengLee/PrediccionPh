{
 "cells": [
  {
   "cell_type": "markdown",
   "metadata": {},
   "source": [
    "Redes Neuronales: se desea realizar una predicción de ph por medio de redes neuronales, por la libreria Keras de tensorflow"
   ]
  },
  {
   "cell_type": "code",
   "execution_count": null,
   "metadata": {},
   "outputs": [],
   "source": [
    "import pandas as pd\n",
    "import numpy as np\n",
    "from sklearn.model_selection import train_test_split\n",
    "from sklearn.preprocessing import StandardScaler, MinMaxScaler\n",
    "from sklearn.metrics import confusion_matrix\n",
    "from keras.optimizers import Adam\n",
    "from keras.callbacks import EarlyStopping, ModelCheckpoint\n",
    "from keras.layers import BatchNormalization"
   ]
  },
  {
   "cell_type": "code",
   "execution_count": null,
   "metadata": {},
   "outputs": [],
   "source": [
    "df = pd.read_csv('../pH Data.csv')\n",
    "\n",
    "dataset = df.values\n",
    "X = dataset[:,:-1]\n",
    "y = dataset[:,-1]"
   ]
  },
  {
   "cell_type": "code",
   "execution_count": null,
   "metadata": {},
   "outputs": [],
   "source": [
    "scale = MinMaxScaler()\n",
    "X_scale = scale.fit_transform(X)\n",
    "X_tr, X_ts, y_tr, y_ts = train_test_split(X_scale, y, test_size=0.2, random_state=7)"
   ]
  },
  {
   "cell_type": "code",
   "execution_count": null,
   "metadata": {},
   "outputs": [],
   "source": [
    "from keras.models import Sequential\n",
    "from keras.layers import Dense, Flatten\n",
    "\n",
    "model_ = Sequential([\n",
    "                        Flatten(input_shape=(3,)),\n",
    "                        Dense(100, activation='relu'),\n",
    "                        BatchNormalization(),\n",
    "                        Dense(100, activation='relu'),\n",
    "                        BatchNormalization(),\n",
    "                        Dense(45, activation='relu'),\n",
    "                        BatchNormalization(),\n",
    "                        Dense(15, activation='softmax'),\n",
    "                    ])\n",
    "#adam_optimizer = Adam(learning_rate=0.0001)\n",
    "\n",
    "model_.compile(optimizer='adam', loss='sparse_categorical_crossentropy', metrics=['accuracy'])"
   ]
  },
  {
   "cell_type": "code",
   "execution_count": null,
   "metadata": {},
   "outputs": [],
   "source": [
    "# modelCheckpoint = ModelCheckpoint('best_banknote_model.hdf5', save_best_only = True)  --> for model checkpoint\n",
    "early_stopping_monitor = EarlyStopping(patience=2, monitor='val_acc',)\n",
    "hist = model_.fit(X_tr, y_tr, epochs=30, validation_split=0.15, callbacks=[early_stopping_monitor], batch_size=10) # callbacks = [monitor_val_acc, modelCheckpoint]--> for model checkpoint"
   ]
  },
  {
   "cell_type": "code",
   "execution_count": null,
   "metadata": {},
   "outputs": [],
   "source": [
    "model_.evaluate(X_tr,y_tr)"
   ]
  },
  {
   "cell_type": "code",
   "execution_count": null,
   "metadata": {},
   "outputs": [],
   "source": [
    "print(model_.summary())\n",
    "print('\\n')\n",
    "print(model_.layers)"
   ]
  },
  {
   "cell_type": "code",
   "execution_count": null,
   "metadata": {},
   "outputs": [],
   "source": [
    "y_pred = np.argmax(model_.predict(X_ts), axis=-1)\n",
    "print('predicted values for X_ts= \\n', y_pred)\n",
    "\n",
    "zeros = y_pred - y_ts\n",
    "c = 0\n",
    "for i in zeros:\n",
    "    if i == 0:\n",
    "        c = c + 1\n",
    "acc = c / len(zeros)   \n",
    "print('\\n') \n",
    "print('accuracy_score: ',acc)"
   ]
  }
 ],
 "metadata": {
  "language_info": {
   "name": "python"
  }
 },
 "nbformat": 4,
 "nbformat_minor": 2
}
